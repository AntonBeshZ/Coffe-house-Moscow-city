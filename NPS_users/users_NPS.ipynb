{
 "cells": [
  {
   "cell_type": "markdown",
   "id": "bddf8667",
   "metadata": {},
   "source": [
    "Импортируем необходимые библиотеки"
   ]
  },
  {
   "cell_type": "code",
   "execution_count": 1,
   "id": "fc7efa54",
   "metadata": {},
   "outputs": [],
   "source": [
    "import os\n",
    "import pandas as pd\n",
    "import numpy as np\n",
    "\n",
    "from sqlalchemy import create_engine"
   ]
  },
  {
   "cell_type": "markdown",
   "id": "ddc2b6e5",
   "metadata": {},
   "source": [
    "Подключаемся к базе данных telecomm_csi.db"
   ]
  },
  {
   "cell_type": "code",
   "execution_count": 2,
   "id": "0017f8e7",
   "metadata": {},
   "outputs": [],
   "source": [
    "path_to_db_local = 'telecomm_csi.db'\n",
    "path_to_db_platform = '/datasets/telecomm_csi.db'\n",
    "path_to_db = None\n",
    "\n",
    "if os.path.exists(path_to_db_local):\n",
    "    path_to_db = path_to_db_local\n",
    "elif os.path.exists(path_to_db_platform):\n",
    "    path_to_db = path_to_db_platform\n",
    "else:\n",
    "    raise Exception('Файл с базой данных SQLite не найден!')\n",
    "\n",
    "if path_to_db:\n",
    "    engine = create_engine(f'sqlite:///{path_to_db}', echo=False)"
   ]
  },
  {
   "cell_type": "markdown",
   "id": "5d0da7cb",
   "metadata": {},
   "source": [
    "Пишем необходимый запрос"
   ]
  },
  {
   "cell_type": "code",
   "execution_count": 3,
   "id": "84ebad43",
   "metadata": {},
   "outputs": [],
   "source": [
    "query = \"\"\"\n",
    "--выводим необходимые поля в заданном порядке\n",
    "SELECT u.user_id,\n",
    "       u.lt_day,\n",
    "--условие для нового или старого клиента\n",
    "CASE\n",
    "    WHEN u.lt_day <= 365 THEN 'Новый'\n",
    "    ELSE 'Старый'\n",
    "END AS is_new,\n",
    "       u.age,\n",
    "--условие для изменения 1 и 0 на Женщину и Мужчину, и сразу решаем проблему с пропусками, незначительно увеличив количество Мужчин\n",
    "CASE\n",
    "    WHEN u.gender_segment = 1 THEN 'Женщина'\n",
    "    ELSE 'Мужчина'\n",
    "END AS gender_segment,\n",
    "       u.os_name,\n",
    "       u.cpe_type_name,\n",
    "       l.country,\n",
    "       l.city,\n",
    "       aseg.title AS age_segment,\n",
    "       tseg.title AS traffic_segment,\n",
    "       lseg.title AS lifetime_segment,\n",
    "       u.nps_score,\n",
    "--условия по последнему полю\n",
    "CASE\n",
    "    WHEN u.nps_score >= 9 THEN 'promoters'\n",
    "    WHEN u.nps_score <= 6 THEN 'detractors'\n",
    "    ELSE 'passives'\n",
    "END AS nps_group\n",
    "--присоединяем таблицу location\n",
    "FROM user AS u\n",
    "LEFT JOIN location AS l ON u.location_id=l.location_id\n",
    "LEFT JOIN age_segment AS aseg ON u.age_gr_id=aseg.age_gr_id\n",
    "LEFT JOIN traffic_segment AS tseg ON u.tr_gr_id=tseg.tr_gr_id\n",
    "LEFT JOIN lifetime_segment AS lseg ON u.lt_gr_id=lseg.lt_gr_id\n",
    "\"\"\""
   ]
  },
  {
   "cell_type": "markdown",
   "id": "b8dc9115",
   "metadata": {},
   "source": [
    "Выводим первые строки"
   ]
  },
  {
   "cell_type": "code",
   "execution_count": 4,
   "id": "3965faf2",
   "metadata": {},
   "outputs": [
    {
     "data": {
      "text/html": [
       "<div>\n",
       "<style scoped>\n",
       "    .dataframe tbody tr th:only-of-type {\n",
       "        vertical-align: middle;\n",
       "    }\n",
       "\n",
       "    .dataframe tbody tr th {\n",
       "        vertical-align: top;\n",
       "    }\n",
       "\n",
       "    .dataframe thead th {\n",
       "        text-align: right;\n",
       "    }\n",
       "</style>\n",
       "<table border=\"1\" class=\"dataframe\">\n",
       "  <thead>\n",
       "    <tr style=\"text-align: right;\">\n",
       "      <th></th>\n",
       "      <th>user_id</th>\n",
       "      <th>lt_day</th>\n",
       "      <th>is_new</th>\n",
       "      <th>age</th>\n",
       "      <th>gender_segment</th>\n",
       "      <th>os_name</th>\n",
       "      <th>cpe_type_name</th>\n",
       "      <th>country</th>\n",
       "      <th>city</th>\n",
       "      <th>age_segment</th>\n",
       "      <th>traffic_segment</th>\n",
       "      <th>lifetime_segment</th>\n",
       "      <th>nps_score</th>\n",
       "      <th>nps_group</th>\n",
       "    </tr>\n",
       "  </thead>\n",
       "  <tbody>\n",
       "    <tr>\n",
       "      <th>0</th>\n",
       "      <td>A001A2</td>\n",
       "      <td>2320</td>\n",
       "      <td>Старый</td>\n",
       "      <td>45.0</td>\n",
       "      <td>Женщина</td>\n",
       "      <td>ANDROID</td>\n",
       "      <td>SMARTPHONE</td>\n",
       "      <td>Россия</td>\n",
       "      <td>Уфа</td>\n",
       "      <td>05 45-54</td>\n",
       "      <td>04 1-5</td>\n",
       "      <td>08 36+</td>\n",
       "      <td>10</td>\n",
       "      <td>promoters</td>\n",
       "    </tr>\n",
       "    <tr>\n",
       "      <th>1</th>\n",
       "      <td>A001WF</td>\n",
       "      <td>2344</td>\n",
       "      <td>Старый</td>\n",
       "      <td>53.0</td>\n",
       "      <td>Мужчина</td>\n",
       "      <td>ANDROID</td>\n",
       "      <td>SMARTPHONE</td>\n",
       "      <td>Россия</td>\n",
       "      <td>Киров</td>\n",
       "      <td>05 45-54</td>\n",
       "      <td>04 1-5</td>\n",
       "      <td>08 36+</td>\n",
       "      <td>10</td>\n",
       "      <td>promoters</td>\n",
       "    </tr>\n",
       "    <tr>\n",
       "      <th>2</th>\n",
       "      <td>A003Q7</td>\n",
       "      <td>467</td>\n",
       "      <td>Старый</td>\n",
       "      <td>57.0</td>\n",
       "      <td>Мужчина</td>\n",
       "      <td>ANDROID</td>\n",
       "      <td>SMARTPHONE</td>\n",
       "      <td>Россия</td>\n",
       "      <td>Москва</td>\n",
       "      <td>06 55-64</td>\n",
       "      <td>08 20-25</td>\n",
       "      <td>06 13-24</td>\n",
       "      <td>10</td>\n",
       "      <td>promoters</td>\n",
       "    </tr>\n",
       "  </tbody>\n",
       "</table>\n",
       "</div>"
      ],
      "text/plain": [
       "  user_id  lt_day  is_new   age gender_segment  os_name cpe_type_name country  \\\n",
       "0  A001A2    2320  Старый  45.0        Женщина  ANDROID    SMARTPHONE  Россия   \n",
       "1  A001WF    2344  Старый  53.0        Мужчина  ANDROID    SMARTPHONE  Россия   \n",
       "2  A003Q7     467  Старый  57.0        Мужчина  ANDROID    SMARTPHONE  Россия   \n",
       "\n",
       "     city age_segment traffic_segment lifetime_segment  nps_score  nps_group  \n",
       "0     Уфа    05 45-54          04 1-5           08 36+         10  promoters  \n",
       "1   Киров    05 45-54          04 1-5           08 36+         10  promoters  \n",
       "2  Москва    06 55-64        08 20-25         06 13-24         10  promoters  "
      ]
     },
     "execution_count": 4,
     "metadata": {},
     "output_type": "execute_result"
    }
   ],
   "source": [
    "df = pd.read_sql(query, engine)\n",
    "df.head(3)"
   ]
  },
  {
   "cell_type": "code",
   "execution_count": 5,
   "id": "d1dfd195",
   "metadata": {},
   "outputs": [
    {
     "name": "stdout",
     "output_type": "stream",
     "text": [
      "<class 'pandas.core.frame.DataFrame'>\n",
      "RangeIndex: 502493 entries, 0 to 502492\n",
      "Data columns (total 14 columns):\n",
      " #   Column            Non-Null Count   Dtype  \n",
      "---  ------            --------------   -----  \n",
      " 0   user_id           502493 non-null  object \n",
      " 1   lt_day            502493 non-null  int64  \n",
      " 2   is_new            502493 non-null  object \n",
      " 3   age               501939 non-null  float64\n",
      " 4   gender_segment    502493 non-null  object \n",
      " 5   os_name           502493 non-null  object \n",
      " 6   cpe_type_name     502493 non-null  object \n",
      " 7   country           502493 non-null  object \n",
      " 8   city              502493 non-null  object \n",
      " 9   age_segment       502493 non-null  object \n",
      " 10  traffic_segment   502493 non-null  object \n",
      " 11  lifetime_segment  502493 non-null  object \n",
      " 12  nps_score         502493 non-null  int64  \n",
      " 13  nps_group         502493 non-null  object \n",
      "dtypes: float64(1), int64(2), object(11)\n",
      "memory usage: 53.7+ MB\n"
     ]
    }
   ],
   "source": [
    "df.info()"
   ]
  },
  {
   "cell_type": "code",
   "execution_count": 6,
   "id": "6c777064",
   "metadata": {},
   "outputs": [
    {
     "data": {
      "text/plain": [
       "0"
      ]
     },
     "execution_count": 6,
     "metadata": {},
     "output_type": "execute_result"
    }
   ],
   "source": [
    "df['user_id'].duplicated().sum()"
   ]
  },
  {
   "cell_type": "markdown",
   "id": "81a7f9b5",
   "metadata": {},
   "source": [
    "Пропуски остались только в колонке возраст. Нашёл интересную странность в данных. В колонке возрастных групп - группа 6 - это возраст в диапазоне 55-64 лет, группа 7 - в диапазоне 66-и более. То есть для 65 лет нет группы!!! Ещё не понятно, куда будут относиться пограничные значения, например в колонке объем трафика значение 0 можно отнести и к 1 группе и ко 2!!! И то же самое в колонке количества месяцев жизни."
   ]
  },
  {
   "cell_type": "code",
   "execution_count": 7,
   "id": "9db04858",
   "metadata": {},
   "outputs": [],
   "source": [
    "df.to_csv('telecomm_csi_tableau.csv', index=False)"
   ]
  },
  {
   "cell_type": "markdown",
   "id": "7ceb1e81",
   "metadata": {},
   "source": [
    "Ссылка на презентацию:"
   ]
  },
  {
   "cell_type": "markdown",
   "id": "3784cf06",
   "metadata": {},
   "source": [
    "https://public.tableau.com/app/profile/antony.besh/viz/BeshNPS/NPS_8"
   ]
  }
 ],
 "metadata": {
  "ExecuteTimeLog": [
   {
    "duration": 498,
    "start_time": "2024-04-01T17:15:11.085Z"
   },
   {
    "duration": 92,
    "start_time": "2024-04-01T17:15:11.585Z"
   },
   {
    "duration": 2,
    "start_time": "2024-04-01T17:15:11.678Z"
   },
   {
    "duration": 405,
    "start_time": "2024-04-01T17:15:11.682Z"
   },
   {
    "duration": 0,
    "start_time": "2024-04-01T17:15:12.089Z"
   },
   {
    "duration": 74,
    "start_time": "2024-04-01T17:17:07.539Z"
   },
   {
    "duration": 179,
    "start_time": "2024-04-01T17:17:19.485Z"
   },
   {
    "duration": 2,
    "start_time": "2024-04-01T17:17:42.821Z"
   },
   {
    "duration": 3402,
    "start_time": "2024-04-01T17:17:48.855Z"
   },
   {
    "duration": 115,
    "start_time": "2024-04-01T17:19:18.085Z"
   },
   {
    "duration": 2,
    "start_time": "2024-04-01T17:27:20.914Z"
   },
   {
    "duration": 4078,
    "start_time": "2024-04-01T17:27:25.091Z"
   },
   {
    "duration": 2,
    "start_time": "2024-04-01T17:29:49.145Z"
   },
   {
    "duration": 3100,
    "start_time": "2024-04-01T17:29:52.759Z"
   },
   {
    "duration": 2,
    "start_time": "2024-04-01T17:30:59.284Z"
   },
   {
    "duration": 351,
    "start_time": "2024-04-01T17:30:59.732Z"
   },
   {
    "duration": 2,
    "start_time": "2024-04-01T17:31:05.309Z"
   },
   {
    "duration": 3275,
    "start_time": "2024-04-01T17:31:05.807Z"
   },
   {
    "duration": 2,
    "start_time": "2024-04-01T17:36:01.581Z"
   },
   {
    "duration": 3524,
    "start_time": "2024-04-01T17:36:02.974Z"
   },
   {
    "duration": 242,
    "start_time": "2024-04-01T17:36:47.253Z"
   },
   {
    "duration": 3,
    "start_time": "2024-04-01T17:40:39.720Z"
   },
   {
    "duration": 3742,
    "start_time": "2024-04-01T17:40:40.250Z"
   },
   {
    "duration": 3388,
    "start_time": "2024-04-01T17:44:06.111Z"
   },
   {
    "duration": 3535,
    "start_time": "2024-04-01T17:44:27.781Z"
   },
   {
    "duration": 1230,
    "start_time": "2024-04-01T17:45:16.492Z"
   },
   {
    "duration": 3563,
    "start_time": "2024-04-01T17:45:36.023Z"
   },
   {
    "duration": 8,
    "start_time": "2024-04-01T17:46:00.212Z"
   },
   {
    "duration": 11,
    "start_time": "2024-04-01T17:59:10.183Z"
   },
   {
    "duration": 13,
    "start_time": "2024-04-01T18:00:02.204Z"
   },
   {
    "duration": 3710,
    "start_time": "2024-04-01T18:00:28.385Z"
   },
   {
    "duration": 10,
    "start_time": "2024-04-01T18:02:34.576Z"
   },
   {
    "duration": 7,
    "start_time": "2024-04-01T18:03:17.495Z"
   },
   {
    "duration": 23,
    "start_time": "2024-04-01T18:04:35.007Z"
   },
   {
    "duration": 28,
    "start_time": "2024-04-01T18:04:54.888Z"
   },
   {
    "duration": 36,
    "start_time": "2024-04-01T18:05:14.537Z"
   },
   {
    "duration": 22,
    "start_time": "2024-04-01T18:05:39.367Z"
   },
   {
    "duration": 2,
    "start_time": "2024-04-01T18:15:27.469Z"
   },
   {
    "duration": 330,
    "start_time": "2024-04-01T18:15:28.349Z"
   },
   {
    "duration": 2,
    "start_time": "2024-04-01T18:15:43.359Z"
   },
   {
    "duration": 3285,
    "start_time": "2024-04-01T18:15:43.779Z"
   },
   {
    "duration": 2,
    "start_time": "2024-04-01T18:17:25.179Z"
   },
   {
    "duration": 3,
    "start_time": "2024-04-01T18:17:48.097Z"
   },
   {
    "duration": 4123,
    "start_time": "2024-04-01T18:17:49.744Z"
   },
   {
    "duration": 12,
    "start_time": "2024-04-01T18:19:07.692Z"
   },
   {
    "duration": 8,
    "start_time": "2024-04-01T18:19:12.108Z"
   },
   {
    "duration": 32,
    "start_time": "2024-04-01T18:21:04.162Z"
   },
   {
    "duration": 21,
    "start_time": "2024-04-01T18:21:22.967Z"
   },
   {
    "duration": 25,
    "start_time": "2024-04-01T18:21:39.186Z"
   },
   {
    "duration": 35,
    "start_time": "2024-04-01T18:21:51.350Z"
   },
   {
    "duration": 50,
    "start_time": "2024-04-01T18:22:00.887Z"
   },
   {
    "duration": 44,
    "start_time": "2024-04-01T18:22:19.842Z"
   },
   {
    "duration": 41,
    "start_time": "2024-04-01T18:22:30.192Z"
   },
   {
    "duration": 39,
    "start_time": "2024-04-01T18:22:40.432Z"
   },
   {
    "duration": 37,
    "start_time": "2024-04-01T18:22:51.222Z"
   },
   {
    "duration": 36,
    "start_time": "2024-04-01T18:23:03.582Z"
   },
   {
    "duration": 36,
    "start_time": "2024-04-01T18:23:35.572Z"
   },
   {
    "duration": 34,
    "start_time": "2024-04-01T18:23:47.893Z"
   },
   {
    "duration": 32,
    "start_time": "2024-04-01T18:24:04.182Z"
   },
   {
    "duration": 32,
    "start_time": "2024-04-01T18:24:16.801Z"
   },
   {
    "duration": 31,
    "start_time": "2024-04-01T18:24:27.502Z"
   },
   {
    "duration": 31,
    "start_time": "2024-04-01T18:24:40.290Z"
   },
   {
    "duration": 31,
    "start_time": "2024-04-01T18:24:50.590Z"
   },
   {
    "duration": 31,
    "start_time": "2024-04-01T18:25:01.359Z"
   },
   {
    "duration": 29,
    "start_time": "2024-04-01T18:25:11.159Z"
   },
   {
    "duration": 27,
    "start_time": "2024-04-01T18:25:21.359Z"
   },
   {
    "duration": 26,
    "start_time": "2024-04-01T18:25:39.260Z"
   },
   {
    "duration": 25,
    "start_time": "2024-04-01T18:25:49.741Z"
   },
   {
    "duration": 25,
    "start_time": "2024-04-01T18:25:54.349Z"
   },
   {
    "duration": 25,
    "start_time": "2024-04-01T18:26:14.837Z"
   },
   {
    "duration": 31,
    "start_time": "2024-04-01T18:26:26.550Z"
   },
   {
    "duration": 240,
    "start_time": "2024-04-01T18:27:17.700Z"
   },
   {
    "duration": 2,
    "start_time": "2024-04-01T18:30:22.648Z"
   },
   {
    "duration": 3332,
    "start_time": "2024-04-01T18:30:26.538Z"
   },
   {
    "duration": 3499,
    "start_time": "2024-04-01T18:30:34.050Z"
   },
   {
    "duration": 3,
    "start_time": "2024-04-01T18:32:22.028Z"
   },
   {
    "duration": 7,
    "start_time": "2024-04-01T18:33:04.649Z"
   },
   {
    "duration": 455,
    "start_time": "2024-04-01T18:33:17.185Z"
   },
   {
    "duration": 57,
    "start_time": "2024-04-01T18:33:17.641Z"
   },
   {
    "duration": 3,
    "start_time": "2024-04-01T18:33:17.699Z"
   },
   {
    "duration": 4513,
    "start_time": "2024-04-01T18:33:17.703Z"
   },
   {
    "duration": 841,
    "start_time": "2024-04-01T18:33:22.218Z"
   },
   {
    "duration": 0,
    "start_time": "2024-04-01T18:33:23.061Z"
   },
   {
    "duration": 0,
    "start_time": "2024-04-01T18:33:23.063Z"
   },
   {
    "duration": 0,
    "start_time": "2024-04-01T18:33:23.064Z"
   },
   {
    "duration": 8,
    "start_time": "2024-04-01T18:33:40.671Z"
   },
   {
    "duration": 33,
    "start_time": "2024-04-01T18:34:33.038Z"
   },
   {
    "duration": 29,
    "start_time": "2024-04-01T18:34:39.788Z"
   },
   {
    "duration": 34,
    "start_time": "2024-04-01T18:35:08.082Z"
   },
   {
    "duration": 32,
    "start_time": "2024-04-01T18:35:22.083Z"
   },
   {
    "duration": 37,
    "start_time": "2024-04-01T18:35:35.551Z"
   },
   {
    "duration": 40,
    "start_time": "2024-04-01T18:35:50.053Z"
   },
   {
    "duration": 47,
    "start_time": "2024-04-01T18:36:03.413Z"
   },
   {
    "duration": 45,
    "start_time": "2024-04-01T18:36:16.593Z"
   },
   {
    "duration": 87,
    "start_time": "2024-04-01T18:36:31.114Z"
   },
   {
    "duration": 3,
    "start_time": "2024-04-01T18:38:10.844Z"
   },
   {
    "duration": 3663,
    "start_time": "2024-04-01T18:38:13.273Z"
   },
   {
    "duration": 3,
    "start_time": "2024-04-01T18:48:32.953Z"
   },
   {
    "duration": 4133,
    "start_time": "2024-04-01T18:48:34.452Z"
   },
   {
    "duration": 4075,
    "start_time": "2024-04-01T18:48:46.261Z"
   },
   {
    "duration": 3,
    "start_time": "2024-04-01T18:50:39.451Z"
   },
   {
    "duration": 339,
    "start_time": "2024-04-01T18:50:40.837Z"
   },
   {
    "duration": 3,
    "start_time": "2024-04-01T18:50:53.543Z"
   },
   {
    "duration": 4123,
    "start_time": "2024-04-01T18:50:56.415Z"
   },
   {
    "duration": 4157,
    "start_time": "2024-04-01T18:51:05.982Z"
   },
   {
    "duration": 4038,
    "start_time": "2024-04-01T18:52:13.402Z"
   },
   {
    "duration": 227,
    "start_time": "2024-04-01T18:52:23.511Z"
   },
   {
    "duration": 2,
    "start_time": "2024-04-01T18:54:45.726Z"
   },
   {
    "duration": 3995,
    "start_time": "2024-04-01T18:54:48.791Z"
   },
   {
    "duration": 207,
    "start_time": "2024-04-01T18:54:57.610Z"
   },
   {
    "duration": 3421,
    "start_time": "2024-04-01T19:09:27.923Z"
   },
   {
    "duration": 486,
    "start_time": "2024-04-01T19:14:04.083Z"
   },
   {
    "duration": 61,
    "start_time": "2024-04-01T19:14:04.570Z"
   },
   {
    "duration": 2,
    "start_time": "2024-04-01T19:14:04.633Z"
   },
   {
    "duration": 3981,
    "start_time": "2024-04-01T19:14:04.637Z"
   },
   {
    "duration": 3322,
    "start_time": "2024-04-01T19:14:08.620Z"
   },
   {
    "duration": 3,
    "start_time": "2024-04-01T19:43:32.051Z"
   },
   {
    "duration": 4012,
    "start_time": "2024-04-01T19:43:34.701Z"
   },
   {
    "duration": 278,
    "start_time": "2024-04-01T19:43:58.780Z"
   },
   {
    "duration": 2,
    "start_time": "2024-04-01T19:45:40.512Z"
   },
   {
    "duration": 4165,
    "start_time": "2024-04-01T19:45:43.603Z"
   },
   {
    "duration": 269,
    "start_time": "2024-04-01T19:45:49.341Z"
   },
   {
    "duration": 91,
    "start_time": "2024-04-01T19:46:59.001Z"
   },
   {
    "duration": 2,
    "start_time": "2024-04-01T19:49:21.523Z"
   },
   {
    "duration": 4121,
    "start_time": "2024-04-01T19:49:23.695Z"
   },
   {
    "duration": 104,
    "start_time": "2024-04-01T19:49:30.225Z"
   },
   {
    "duration": 297,
    "start_time": "2024-04-01T19:49:35.245Z"
   },
   {
    "duration": 488,
    "start_time": "2024-04-01T19:58:12.068Z"
   },
   {
    "duration": 65,
    "start_time": "2024-04-01T19:58:12.558Z"
   },
   {
    "duration": 4,
    "start_time": "2024-04-01T19:58:12.624Z"
   },
   {
    "duration": 4278,
    "start_time": "2024-04-01T19:58:12.629Z"
   },
   {
    "duration": 287,
    "start_time": "2024-04-01T19:58:16.909Z"
   },
   {
    "duration": 3407,
    "start_time": "2024-04-01T19:58:17.197Z"
   },
   {
    "duration": 4,
    "start_time": "2024-04-07T08:45:36.642Z"
   },
   {
    "duration": 543,
    "start_time": "2024-04-07T08:45:49.239Z"
   },
   {
    "duration": 95,
    "start_time": "2024-04-07T08:45:49.784Z"
   },
   {
    "duration": 4,
    "start_time": "2024-04-07T08:45:49.881Z"
   },
   {
    "duration": 4884,
    "start_time": "2024-04-07T08:45:49.887Z"
   },
   {
    "duration": 326,
    "start_time": "2024-04-07T08:45:54.773Z"
   },
   {
    "duration": 3445,
    "start_time": "2024-04-07T08:45:55.101Z"
   },
   {
    "duration": 2,
    "start_time": "2024-04-07T08:45:58.548Z"
   },
   {
    "duration": 8,
    "start_time": "2024-04-07T10:36:27.438Z"
   },
   {
    "duration": 48,
    "start_time": "2024-04-07T10:36:34.598Z"
   },
   {
    "duration": 504,
    "start_time": "2024-04-07T10:36:43.268Z"
   },
   {
    "duration": 131,
    "start_time": "2024-04-07T10:36:43.774Z"
   },
   {
    "duration": 3,
    "start_time": "2024-04-07T10:36:43.907Z"
   },
   {
    "duration": 4871,
    "start_time": "2024-04-07T10:36:43.913Z"
   },
   {
    "duration": 350,
    "start_time": "2024-04-07T10:36:48.786Z"
   },
   {
    "duration": 3961,
    "start_time": "2024-04-07T10:36:49.138Z"
   },
   {
    "duration": 3,
    "start_time": "2024-04-07T10:38:45.055Z"
   },
   {
    "duration": 4761,
    "start_time": "2024-04-07T10:38:50.310Z"
   },
   {
    "duration": 4,
    "start_time": "2024-04-07T10:41:59.311Z"
   },
   {
    "duration": 4780,
    "start_time": "2024-04-07T10:42:06.500Z"
   },
   {
    "duration": 2,
    "start_time": "2024-04-07T10:43:39.523Z"
   },
   {
    "duration": 691,
    "start_time": "2024-04-07T10:43:43.550Z"
   },
   {
    "duration": 2,
    "start_time": "2024-04-07T10:46:49.074Z"
   },
   {
    "duration": 5066,
    "start_time": "2024-04-07T10:46:52.482Z"
   },
   {
    "duration": 483,
    "start_time": "2024-04-07T11:08:08.686Z"
   },
   {
    "duration": 73,
    "start_time": "2024-04-07T11:08:09.171Z"
   },
   {
    "duration": 3,
    "start_time": "2024-04-07T11:08:09.246Z"
   },
   {
    "duration": 5197,
    "start_time": "2024-04-07T11:08:09.250Z"
   },
   {
    "duration": 528,
    "start_time": "2024-04-07T11:08:14.448Z"
   },
   {
    "duration": 4384,
    "start_time": "2024-04-07T11:08:14.978Z"
   },
   {
    "duration": 532,
    "start_time": "2024-04-07T12:19:08.657Z"
   },
   {
    "duration": 75,
    "start_time": "2024-04-07T12:19:09.191Z"
   },
   {
    "duration": 3,
    "start_time": "2024-04-07T12:19:09.268Z"
   },
   {
    "duration": 5087,
    "start_time": "2024-04-07T12:19:09.272Z"
   },
   {
    "duration": 513,
    "start_time": "2024-04-07T12:19:14.361Z"
   },
   {
    "duration": 4424,
    "start_time": "2024-04-07T12:19:14.875Z"
   },
   {
    "duration": 49,
    "start_time": "2024-04-07T15:55:38.085Z"
   },
   {
    "duration": 527,
    "start_time": "2024-04-07T15:55:45.982Z"
   },
   {
    "duration": 73,
    "start_time": "2024-04-07T15:55:46.511Z"
   },
   {
    "duration": 3,
    "start_time": "2024-04-07T15:55:46.585Z"
   },
   {
    "duration": 5205,
    "start_time": "2024-04-07T15:55:46.590Z"
   },
   {
    "duration": 505,
    "start_time": "2024-04-07T15:55:51.798Z"
   },
   {
    "duration": 16,
    "start_time": "2024-04-07T15:55:52.304Z"
   },
   {
    "duration": 4264,
    "start_time": "2024-04-07T15:55:52.321Z"
   },
   {
    "duration": 18,
    "start_time": "2024-04-07T15:56:27.426Z"
   },
   {
    "duration": 12,
    "start_time": "2024-04-07T15:57:06.175Z"
   },
   {
    "duration": 13,
    "start_time": "2024-04-07T15:57:17.494Z"
   },
   {
    "duration": 9,
    "start_time": "2024-04-07T15:57:39.340Z"
   },
   {
    "duration": 9,
    "start_time": "2024-04-07T15:58:18.074Z"
   },
   {
    "duration": 90,
    "start_time": "2024-04-07T15:58:40.498Z"
   },
   {
    "duration": 64,
    "start_time": "2024-04-07T15:59:23.089Z"
   },
   {
    "duration": 1331,
    "start_time": "2024-04-07T15:59:38.547Z"
   },
   {
    "duration": 1285,
    "start_time": "2024-04-07T15:59:51.756Z"
   },
   {
    "duration": 242,
    "start_time": "2024-04-07T16:00:31.087Z"
   },
   {
    "duration": 229,
    "start_time": "2024-04-07T16:00:36.723Z"
   },
   {
    "duration": 211,
    "start_time": "2024-04-07T16:00:51.477Z"
   }
  ],
  "kernelspec": {
   "display_name": "Python 3 (ipykernel)",
   "language": "python",
   "name": "python3"
  },
  "language_info": {
   "codemirror_mode": {
    "name": "ipython",
    "version": 3
   },
   "file_extension": ".py",
   "mimetype": "text/x-python",
   "name": "python",
   "nbconvert_exporter": "python",
   "pygments_lexer": "ipython3",
   "version": "3.8.10"
  },
  "toc": {
   "base_numbering": 1,
   "nav_menu": {},
   "number_sections": true,
   "sideBar": true,
   "skip_h1_title": true,
   "title_cell": "Table of Contents",
   "title_sidebar": "Contents",
   "toc_cell": false,
   "toc_position": {
    "height": "calc(100% - 180px)",
    "left": "10px",
    "top": "150px",
    "width": "210.488px"
   },
   "toc_section_display": true,
   "toc_window_display": true
  }
 },
 "nbformat": 4,
 "nbformat_minor": 5
}
